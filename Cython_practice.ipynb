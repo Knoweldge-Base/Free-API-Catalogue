{
 "cells": [
  {
   "cell_type": "code",
   "execution_count": 1,
   "metadata": {},
   "outputs": [],
   "source": [
    "import numpy as np\n",
    "%load_ext Cython\n"
   ]
  },
  {
   "cell_type": "code",
   "execution_count": 6,
   "metadata": {},
   "outputs": [
    {
     "name": "stdout",
     "output_type": "stream",
     "text": [
      "The Cython extension is already loaded. To reload it, use:\n",
      "  %reload_ext Cython\n"
     ]
    }
   ],
   "source": [
    "import numpy as np\n",
    "%load_ext Cython\n",
    "\n",
    "def matrix_multiply_python(A, B):\n",
    "    C = np.zeros_like(A)\n",
    "    for i in range(A.shape[0]):\n",
    "        for j in range(B.shape[1]):\n",
    "            for k in range(A.shape[1]):\n",
    "                C[i, j] += A[i, k] * B[k, j]\n",
    "    return C\n",
    "\n",
    "A = np.random.randint(0, 10, (1000, 1000))\n",
    "B = np.random.randint(0, 10, (1000, 1000))\n",
    "C_python = matrix_multiply_python(A, B)"
   ]
  },
  {
   "cell_type": "code",
   "execution_count": 2,
   "metadata": {},
   "outputs": [],
   "source": [
    "%%cython\n",
    "import numpy as np\n",
    "cimport numpy as cnp\n",
    "\n",
    "def matrix_multiply_cython(cnp.int32_t[:, :] A, cnp.int32_t[:, :] B):\n",
    "    cdef int i, j, k, n = A.shape[0]\n",
    "    cdef cnp.int32_t[:, :] C = np.zeros_like(A, dtype=np.int32)\n",
    "    for i in range(n):\n",
    "        for j in range(n):\n",
    "            for k in range(n):\n",
    "                C[i, j] += A[i, k] * B[k, j]\n",
    "    return C\n",
    "\n",
    "# Create matrices with explicit int32 type\n",
    "A = np.random.randint(0, 10, (1000, 1000)).astype(np.int32)\n",
    "B = np.random.randint(0, 10, (1000, 1000)).astype(np.int32)\n",
    "C_cython = matrix_multiply_cython(A, B)"
   ]
  }
 ],
 "metadata": {
  "kernelspec": {
   "display_name": "Python 3",
   "language": "python",
   "name": "python3"
  },
  "language_info": {
   "codemirror_mode": {
    "name": "ipython",
    "version": 3
   },
   "file_extension": ".py",
   "mimetype": "text/x-python",
   "name": "python",
   "nbconvert_exporter": "python",
   "pygments_lexer": "ipython3",
   "version": "3.11.0"
  },
  "orig_nbformat": 4
 },
 "nbformat": 4,
 "nbformat_minor": 2
}
